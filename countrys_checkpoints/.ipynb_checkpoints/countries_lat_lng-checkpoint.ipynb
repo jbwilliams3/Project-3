{
 "cells": [
  {
   "cell_type": "code",
   "execution_count": null,
   "id": "042ec321",
   "metadata": {},
   "outputs": [],
   "source": [
    "# Dependencies\n",
    "import requests\n",
    "import json\n",
    "import os\n",
    "import pandas as pd\n",
    "import numpy as np\n",
    "from config import gkey\n",
    "import gmaps\n",
    "\n"
   ]
  },
  {
   "cell_type": "code",
   "execution_count": null,
   "id": "9d3b3288",
   "metadata": {},
   "outputs": [],
   "source": [
    "# Google developer API key\n",
    "gkey = \"KEY\""
   ]
  },
  {
   "cell_type": "code",
   "execution_count": null,
   "id": "788c1d00",
   "metadata": {},
   "outputs": [],
   "source": [
    "# Set up the target URL for the geocode API call\n",
    "def geocode_results(address):\n",
    "    target_url = ('https://maps.googleapis.com/maps/api/geocode/json?'\n",
    "                  'address={0}&key={1}').format(address, gkey)\n",
    "    response = requests.get(target_url).json()\n",
    "    return response['results']"
   ]
  },
  {
   "cell_type": "code",
   "execution_count": null,
   "id": "ecc285f3",
   "metadata": {},
   "outputs": [],
   "source": [
    "# Load data from countries CSV for years 2019 through 2022\n",
    "countries_2019 = pd.read_csv(\"../data/csv/countries_2019.csv\")\n",
    "countries_2020 = pd.read_csv(\"../data/csv/countries_2020.csv\")\n",
    "countries_2021 = pd.read_csv(\"../data/csv/countries_2021.csv\")\n",
    "countries_2022 = pd.read_csv(\"../data/csv/countries_2022.csv\")\n"
   ]
  },
  {
   "cell_type": "code",
   "execution_count": null,
   "id": "33cf9428",
   "metadata": {},
   "outputs": [],
   "source": [
    "# Update the column names and data processing for each year's data\n",
    "# ...\n"
   ]
  },
  {
   "cell_type": "code",
   "execution_count": null,
   "id": "d93842c0",
   "metadata": {},
   "outputs": [],
   "source": [
    "# Save the updated data to respective CSV files for each year\n",
    "countries_2019.to_csv('../data/csv/countries_2019.csv')\n",
    "countries_2020.to_csv('../data/csv/countries_2020.csv')\n",
    "countries_2021.to_csv('../data/csv/countries_2021.csv')\n",
    "countries_2022.to_csv('../data/csv/countries_2022.csv')"
   ]
  },
  {
   "cell_type": "code",
   "execution_count": null,
   "id": "c6685d66",
   "metadata": {},
   "outputs": [],
   "source": []
  }
 ],
 "metadata": {
  "kernelspec": {
   "display_name": "dev2",
   "language": "python",
   "name": "dev2"
  },
  "language_info": {
   "codemirror_mode": {
    "name": "ipython",
    "version": 3
   },
   "file_extension": ".py",
   "mimetype": "text/x-python",
   "name": "python",
   "nbconvert_exporter": "python",
   "pygments_lexer": "ipython3",
   "version": "3.10.9"
  }
 },
 "nbformat": 4,
 "nbformat_minor": 5
}
