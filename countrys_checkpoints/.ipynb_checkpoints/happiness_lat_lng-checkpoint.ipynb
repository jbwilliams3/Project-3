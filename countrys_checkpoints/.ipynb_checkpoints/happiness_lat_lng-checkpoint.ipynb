{
 "cells": [
  {
   "cell_type": "code",
   "execution_count": null,
   "id": "656b37b2",
   "metadata": {},
   "outputs": [],
   "source": [
    "# Import necessary libraries\n",
    "import os\n",
    "import pandas as pd\n"
   ]
  },
  {
   "cell_type": "code",
   "execution_count": null,
   "id": "3e06ff74",
   "metadata": {},
   "outputs": [],
   "source": [
    "# Load the datasets for the corresponding years\n",
    "happiness_19_df = pd.read_csv(os.path.join('../happy_2019.csv'))\n",
    "happiness_20_df = pd.read_csv(os.path.join('../happy_2020.csv'))\n",
    "happiness_21_df = pd.read_csv(os.path.join('../happy_2021.csv'))\n",
    "happiness_22_df = pd.read_csv(os.path.join('../happy_2022.csv'))"
   ]
  },
  {
   "cell_type": "code",
   "execution_count": null,
   "id": "426f62b6",
   "metadata": {},
   "outputs": [],
   "source": [
    "# Load the country data for the corresponding years\n",
    "country_19_df = pd.read_csv(os.path.join('../countries_2019.csv'))\n",
    "country_20_df = pd.read_csv(os.path.join('../countries_2020.csv'))\n",
    "country_21_df = pd.read_csv(os.path.join('../countries_2021.csv'))\n",
    "country_22_df = pd.read_csv(os.path.join('../countries_2022.csv'))"
   ]
  },
  {
   "cell_type": "code",
   "execution_count": null,
   "id": "71ad0223",
   "metadata": {},
   "outputs": [],
   "source": [
    "# Load the country location data for the corresponding years\n",
    "country_location_19_df = pd.read_csv(os.path.join('../country_locations_2019.csv'))\n",
    "country_location_20_df = pd.read_csv(os.path.join('../country_locations_2020.csv'))\n",
    "country_location_21_df = pd.read_csv(os.path.join('../country_locations_2021.csv'))\n",
    "country_location_22_df = pd.read_csv(os.path.join('../country_locations_2022.csv'))"
   ]
  },
  {
   "cell_type": "code",
   "execution_count": null,
   "id": "0d8ddf3e",
   "metadata": {},
   "outputs": [],
   "source": [
    "# Define dictionaries for latitude and longitude values\n",
    "country_lat_dict = {}\n",
    "country_long_dict = {}\n"
   ]
  },
  {
   "cell_type": "code",
   "execution_count": null,
   "id": "609ae747",
   "metadata": {},
   "outputs": [],
   "source": [
    "# Update the latitude and longitude dictionaries\n",
    "# ..."
   ]
  },
  {
   "cell_type": "code",
   "execution_count": null,
   "id": "3c9e37f8",
   "metadata": {},
   "outputs": [],
   "source": [
    "# Update the latitude and longitude columns for each DataFrame\n",
    "# ...\n"
   ]
  },
  {
   "cell_type": "code",
   "execution_count": null,
   "id": "e2ff1191",
   "metadata": {},
   "outputs": [],
   "source": [
    "# Save the updated DataFrames to their respective CSV files\n",
    "happiness_19_df.to_csv(os.path.join('../happy_2019.csv'))\n",
    "happiness_20_df.to_csv(os.path.join('../happy_2020.csv'))\n",
    "happiness_21_df.to_csv(os.path.join('../happy_2021.csv'))\n",
    "happiness_22_df.to_csv(os.path.join('../happy_2022.csv'))"
   ]
  },
  {
   "cell_type": "code",
   "execution_count": null,
   "id": "4d220752",
   "metadata": {},
   "outputs": [],
   "source": [
    "country_19_df.to_csv(os.path.join('../countries_2019.csv'))\n",
    "country_20_df.to_csv(os.path.join('../countries_2020.csv'))\n",
    "country_21_df.to_csv(os.path.join('../countries_2021.csv'))\n",
    "country_22_df.to_csv(os.path.join('../countries_2022.csv'))"
   ]
  },
  {
   "cell_type": "code",
   "execution_count": null,
   "id": "e976cd20",
   "metadata": {},
   "outputs": [],
   "source": [
    "country_location_19_df.to_csv(os.path.join('../country_locations_2019.csv'))\n",
    "country_location_20_df.to_csv(os.path.join('../country_locations_2020.csv'))\n",
    "country_location_21_df.to_csv(os.path.join('../country_locations_2021.csv'))\n",
    "country_location_22_df.to_csv(os.path.join('../country_locations_2022.csv'))"
   ]
  }
 ],
 "metadata": {
  "kernelspec": {
   "display_name": "dev2",
   "language": "python",
   "name": "dev2"
  },
  "language_info": {
   "codemirror_mode": {
    "name": "ipython",
    "version": 3
   },
   "file_extension": ".py",
   "mimetype": "text/x-python",
   "name": "python",
   "nbconvert_exporter": "python",
   "pygments_lexer": "ipython3",
   "version": "3.10.9"
  }
 },
 "nbformat": 4,
 "nbformat_minor": 5
}
