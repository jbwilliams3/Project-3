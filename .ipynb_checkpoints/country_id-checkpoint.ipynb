{
 "cells": [
  {
   "cell_type": "code",
   "execution_count": null,
   "id": "d938482f",
   "metadata": {},
   "outputs": [],
   "source": [
    "import os\n",
    "import pandas as pd\n",
    "import numpy as np\n"
   ]
  },
  {
   "cell_type": "code",
   "execution_count": null,
   "id": "1f671862",
   "metadata": {},
   "outputs": [],
   "source": [
    "# Read data from CSV files\n",
    "happiness_19_df = pd.read_csv(os.path.join('../happy_2019.csv'))\n",
    "happiness_20_df = pd.read_csv(os.path.join('../happy_2020.csv'))\n",
    "happiness_21_df = pd.read_csv(os.path.join('../happy_2021.csv'))\n",
    "happiness_22_df = pd.read_csv(os.path.join('../happy_2022.csv'))\n"
   ]
  },
  {
   "cell_type": "code",
   "execution_count": null,
   "id": "23c5bbab",
   "metadata": {},
   "outputs": [],
   "source": [
    "# Sort dataframes by 'Country' column\n",
    "happiness_19_df.sort_values(by=['Country']).head()\n",
    "happiness_20_df.sort_values(by=['Country']).head()\n",
    "happiness_21_df.sort_values(by=['Country']).head()\n",
    "happiness_22_df.sort_values(by=['Country']).head()\n"
   ]
  },
  {
   "cell_type": "code",
   "execution_count": null,
   "id": "01176063",
   "metadata": {},
   "outputs": [],
   "source": [
    "# Extract lists of countries for each year\n",
    "list_2019 = list(happiness_19_df['Country'])\n",
    "list_2020 = list(happiness_20_df['Country'])\n",
    "list_2021 = list(happiness_21_df['Country'])\n",
    "list_2022 = list(happiness_22_df['Country'])"
   ]
  },
  {
   "cell_type": "code",
   "execution_count": null,
   "id": "db09861c",
   "metadata": {},
   "outputs": [],
   "source": [
    "# Create a list of unique countries across all years\n",
    "country_list = list(set(list_2019 + list_2020 + list_2021 + list_2022))"
   ]
  },
  {
   "cell_type": "code",
   "execution_count": null,
   "id": "3acc5372",
   "metadata": {},
   "outputs": [],
   "source": [
    "# Generate country IDs for each country\n",
    "country_id = list(range(1, len(country_list) + 1))"
   ]
  },
  {
   "cell_type": "code",
   "execution_count": null,
   "id": "5bf45033",
   "metadata": {},
   "outputs": [],
   "source": [
    "# Create a dictionary of country names and their corresponding IDs\n",
    "country_data = {'country': country_list, 'country_id': country_id}\n",
    "country_df = pd.DataFrame.from_dict(country_data)\n"
   ]
  },
  {
   "cell_type": "code",
   "execution_count": null,
   "id": "dd63de13",
   "metadata": {},
   "outputs": [],
   "source": [
    "# Save the country data to a CSV file\n",
    "country_df.to_csv(os.path.join('../countries.csv'))"
   ]
  },
  {
   "cell_type": "code",
   "execution_count": null,
   "id": "42579434",
   "metadata": {},
   "outputs": [],
   "source": [
    "# Create a dictionary mapping country names to their IDs\n",
    "country_id_dict = {row['country']: row['country_id'] for index, row in country_df.iterrows()}"
   ]
  },
  {
   "cell_type": "code",
   "execution_count": null,
   "id": "217ea667",
   "metadata": {},
   "outputs": [],
   "source": [
    "# Add country IDs to the dataframes\n",
    "happiness_19_df['country_id'] = happiness_19_df['Country'].map(country_id_dict)\n",
    "happiness_20_df['country_id'] = happiness_20_df['Country'].map(country_id_dict)\n",
    "happiness_21_df['country_id'] = happiness_21_df['Country'].map(country_id_dict)\n",
    "happiness_22_df['country_id'] = happiness_22_df['Country'].map(country_id_dict)"
   ]
  },
  {
   "cell_type": "code",
   "execution_count": null,
   "id": "d0ce2d39",
   "metadata": {},
   "outputs": [],
   "source": [
    "# Save the updated dataframes back to their respective CSV files\n",
    "happiness_19_df.to_csv(os.path.join('../happy_2019.csv'))\n",
    "happiness_20_df.to_csv(os.path.join('../happy_2020.csv'))\n",
    "happiness_21_df.to_csv(os.path.join('../happy_2021.csv'))\n",
    "happiness_22_df.to_csv(os.path.join('../happy_2022.csv'))\n"
   ]
  }
 ],
 "metadata": {
  "kernelspec": {
   "display_name": "dev2",
   "language": "python",
   "name": "dev2"
  },
  "language_info": {
   "codemirror_mode": {
    "name": "ipython",
    "version": 3
   },
   "file_extension": ".py",
   "mimetype": "text/x-python",
   "name": "python",
   "nbconvert_exporter": "python",
   "pygments_lexer": "ipython3",
   "version": "3.10.9"
  }
 },
 "nbformat": 4,
 "nbformat_minor": 5
}
