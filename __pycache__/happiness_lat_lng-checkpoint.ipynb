{
 "cells": [
  {
   "cell_type": "code",
   "execution_count": 1,
   "id": "656b37b2",
   "metadata": {},
   "outputs": [],
   "source": [
    "# Import necessary libraries\n",
    "import os\n",
    "import pandas as pd\n"
   ]
  },
  {
   "cell_type": "code",
   "execution_count": 2,
   "id": "3e06ff74",
   "metadata": {},
   "outputs": [],
   "source": [
    "# Load the datasets for the corresponding years\n",
    "happiness_19_df = pd.read_csv(os.path.join('C:/Users/roelj/OneDrive/Desktop/school/Project-3/csv/happy_2019.csv'))\n",
    "happiness_20_df = pd.read_csv(os.path.join('C:/Users/roelj/OneDrive/Desktop/school/Project-3/csv/happy_2020.csv'))\n",
    "happiness_21_df = pd.read_csv(os.path.join('C:/Users/roelj/OneDrive/Desktop/school/Project-3/csv/happy_2021.csv'))\n",
    "country_df = pd.read_csv(os.path.join(r'C:\\Users\\roelj\\OneDrive\\Desktop\\school\\Project-3\\csv\\countries.csv'))\n",
    "country_location_df = pd.read_csv(os.path.join('C:/Users/roelj/OneDrive/Desktop/school/Project-3/csv/country_locations.csv'))\n"
   ]
  },
  {
   "cell_type": "code",
   "execution_count": 3,
   "id": "03d53d7b",
   "metadata": {},
   "outputs": [
    {
     "data": {
      "text/html": [
       "<div>\n",
       "<style scoped>\n",
       "    .dataframe tbody tr th:only-of-type {\n",
       "        vertical-align: middle;\n",
       "    }\n",
       "\n",
       "    .dataframe tbody tr th {\n",
       "        vertical-align: top;\n",
       "    }\n",
       "\n",
       "    .dataframe thead th {\n",
       "        text-align: right;\n",
       "    }\n",
       "</style>\n",
       "<table border=\"1\" class=\"dataframe\">\n",
       "  <thead>\n",
       "    <tr style=\"text-align: right;\">\n",
       "      <th></th>\n",
       "      <th>Unnamed: 0.1</th>\n",
       "      <th>Unnamed: 0</th>\n",
       "      <th>country</th>\n",
       "      <th>country_id</th>\n",
       "      <th>Lat</th>\n",
       "      <th>Lng</th>\n",
       "    </tr>\n",
       "  </thead>\n",
       "  <tbody>\n",
       "    <tr>\n",
       "      <th>0</th>\n",
       "      <td>0</td>\n",
       "      <td>0</td>\n",
       "      <td>Afghanistan</td>\n",
       "      <td>1</td>\n",
       "      <td>33.939110</td>\n",
       "      <td>67.709953</td>\n",
       "    </tr>\n",
       "    <tr>\n",
       "      <th>1</th>\n",
       "      <td>1</td>\n",
       "      <td>1</td>\n",
       "      <td>Albania</td>\n",
       "      <td>2</td>\n",
       "      <td>41.153332</td>\n",
       "      <td>20.168331</td>\n",
       "    </tr>\n",
       "    <tr>\n",
       "      <th>2</th>\n",
       "      <td>2</td>\n",
       "      <td>2</td>\n",
       "      <td>Algeria</td>\n",
       "      <td>3</td>\n",
       "      <td>28.033886</td>\n",
       "      <td>1.659626</td>\n",
       "    </tr>\n",
       "    <tr>\n",
       "      <th>3</th>\n",
       "      <td>3</td>\n",
       "      <td>3</td>\n",
       "      <td>Angola</td>\n",
       "      <td>4</td>\n",
       "      <td>-11.202692</td>\n",
       "      <td>17.873887</td>\n",
       "    </tr>\n",
       "    <tr>\n",
       "      <th>4</th>\n",
       "      <td>4</td>\n",
       "      <td>4</td>\n",
       "      <td>Argentina</td>\n",
       "      <td>5</td>\n",
       "      <td>-38.416097</td>\n",
       "      <td>-63.616672</td>\n",
       "    </tr>\n",
       "  </tbody>\n",
       "</table>\n",
       "</div>"
      ],
      "text/plain": [
       "   Unnamed: 0.1  Unnamed: 0      country  country_id        Lat        Lng\n",
       "0             0           0  Afghanistan           1  33.939110  67.709953\n",
       "1             1           1      Albania           2  41.153332  20.168331\n",
       "2             2           2      Algeria           3  28.033886   1.659626\n",
       "3             3           3       Angola           4 -11.202692  17.873887\n",
       "4             4           4    Argentina           5 -38.416097 -63.616672"
      ]
     },
     "execution_count": 3,
     "metadata": {},
     "output_type": "execute_result"
    }
   ],
   "source": [
    "country_location_df.head()"
   ]
  },
  {
   "cell_type": "code",
   "execution_count": 4,
   "id": "3c2b16aa",
   "metadata": {},
   "outputs": [],
   "source": [
    "country_lat_dict = {}\n",
    "country_long_dict = {}\n",
    "for index,row in country_location_df.iterrows():\n",
    "    country_name = row['country']\n",
    "    country_lat = row['Lat']\n",
    "    country_long = row['Lng']\n",
    "    country_lat_dict[country_name] = country_lat\n",
    "    country_long_dict[country_name] = country_long"
   ]
  },
  {
   "cell_type": "code",
   "execution_count": 5,
   "id": "a51e0aa8",
   "metadata": {},
   "outputs": [],
   "source": [
    "happiness_19_df['Latitude'] =\"\"\n",
    "happiness_20_df['Latitude'] =\"\"\n",
    "happiness_21_df['Latitude'] =\"\"\n",
    "country_df['Latitude'] =\"\"\n",
    "happiness_19_df['Longitude'] =\"\"\n",
    "happiness_20_df['Longitude'] =\"\"\n",
    "happiness_21_df['Longitude'] =\"\"\n",
    "country_df['Longitude'] =\"\""
   ]
  },
  {
   "cell_type": "code",
   "execution_count": 6,
   "id": "2cd27236",
   "metadata": {},
   "outputs": [],
   "source": [
    "def add_lat_long(df):\n",
    "    for index,row in df.iterrows() :\n",
    "        try:\n",
    "            df.loc[index,'Latitude'] = country_lat_dict.get(row['Country'])\n",
    "            df.loc[index,'Longitude'] = country_long_dict.get(row['Country'])\n",
    "        except:\n",
    "            continue"
   ]
  },
  {
   "cell_type": "code",
   "execution_count": 7,
   "id": "a0a0c314",
   "metadata": {},
   "outputs": [],
   "source": [
    "add_lat_long(happiness_19_df)\n",
    "add_lat_long(happiness_20_df)\n",
    "add_lat_long(happiness_21_df)\n",
    "add_lat_long(country_df)"
   ]
  },
  {
   "cell_type": "code",
   "execution_count": 8,
   "id": "79f42fd0",
   "metadata": {},
   "outputs": [],
   "source": [
    "happiness_19_df = pd.read_csv(os.path.join('C:/Users/roelj/OneDrive/Desktop/school/Project-3/csv/happy_2019.csv'))\n",
    "happiness_20_df = pd.read_csv(os.path.join('C:/Users/roelj/OneDrive/Desktop/school/Project-3/csv/happy_2020.csv'))\n",
    "happiness_21_df = pd.read_csv(os.path.join('C:/Users/roelj/OneDrive/Desktop/school/Project-3/csv/happy_2021.csv'))\n",
    "country_df = pd.read_csv(os.path.join(r'C:\\Users\\roelj\\OneDrive\\Desktop\\school\\Project-3\\csv\\countries.csv'))"
   ]
  }
 ],
 "metadata": {
  "kernelspec": {
   "display_name": "dev2",
   "language": "python",
   "name": "dev2"
  },
  "language_info": {
   "codemirror_mode": {
    "name": "ipython",
    "version": 3
   },
   "file_extension": ".py",
   "mimetype": "text/x-python",
   "name": "python",
   "nbconvert_exporter": "python",
   "pygments_lexer": "ipython3",
   "version": "3.10.9"
  }
 },
 "nbformat": 4,
 "nbformat_minor": 5
}
